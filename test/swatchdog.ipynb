{
 "cells": [
  {
   "cell_type": "code",
   "execution_count": null,
   "metadata": {},
   "outputs": [],
   "source": [
    "import sys\n",
    "sys.path.append(\"../etc/swatchdog\")"
   ]
  },
  {
   "cell_type": "code",
   "execution_count": null,
   "metadata": {},
   "outputs": [],
   "source": [
    "import swatchdog"
   ]
  },
  {
   "cell_type": "code",
   "execution_count": null,
   "metadata": {},
   "outputs": [],
   "source": [
    "swatchdog.run_watchfors()"
   ]
  },
  {
   "cell_type": "code",
   "execution_count": null,
   "metadata": {},
   "outputs": [],
   "source": [
    "from subprocess import check_output, run, Popen, PIPE\n"
   ]
  },
  {
   "cell_type": "code",
   "execution_count": null,
   "metadata": {},
   "outputs": [],
   "source": [
    "import os, signal\n",
    "p = Popen([\"pgrep\", \"swatch\"], stdout=PIPE)\n",
    "text, err = p.communicate()\n",
    "output = text.decode(\"utf-8\").split(\"\\n\")\n",
    "for o in output:\n",
    "    if o:\n",
    "        print(f\"killing {o} ...\") \n",
    "        os.kill(int(o), signal.SIGKILL)\n"
   ]
  }
 ],
 "metadata": {
  "kernelspec": {
   "display_name": "Python 3",
   "language": "python",
   "name": "python3"
  },
  "language_info": {
   "codemirror_mode": {
    "name": "ipython",
    "version": 3
   },
   "file_extension": ".py",
   "mimetype": "text/x-python",
   "name": "python",
   "nbconvert_exporter": "python",
   "pygments_lexer": "ipython3",
   "version": "3.10.5"
  },
  "orig_nbformat": 4,
  "vscode": {
   "interpreter": {
    "hash": "7bfef2c1b640b27fd4913fd63e264e55749df2aa49f441fe85c4350ac9b5cfbc"
   }
  }
 },
 "nbformat": 4,
 "nbformat_minor": 2
}
